{
  "nbformat": 4,
  "nbformat_minor": 0,
  "metadata": {
    "colab": {
      "provenance": []
    },
    "kernelspec": {
      "name": "python3",
      "display_name": "Python 3"
    },
    "language_info": {
      "name": "python"
    }
  },
  "cells": [
    {
      "cell_type": "markdown",
      "source": [
        "#1.What is Object-Oriented Programming (OOP)?\n",
        "\n",
        ">OOP is a programming paradigm based on the concept of \"objects,\" which can contain data and code to manipulate that data. It emphasizes the principles of encapsulation, inheritance, and polymorphism."
      ],
      "metadata": {
        "id": "iIlIb6m7cf1h"
      }
    },
    {
      "cell_type": "markdown",
      "source": [
        "#2. What is a class in OOP?\n",
        ">A class is a blueprint for creating objects. It defines a set of attributes and methods that the created objects will have."
      ],
      "metadata": {
        "id": "G36Zr4epc9pM"
      }
    },
    {
      "cell_type": "markdown",
      "source": [
        "#3.What is an object in OOP?\n",
        "\n",
        ">An object is an instance of a class. It represents a specific entity with attributes and behaviors defined by its class"
      ],
      "metadata": {
        "id": "glcvx7GydJO4"
      }
    },
    {
      "cell_type": "markdown",
      "source": [
        "#4.What is the difference between abstraction and encapsulation?\n",
        "\n",
        ">Abstraction: Hides the complex implementation details and shows only the essential features.\n",
        "\n",
        ">Encapsulation: Bundles the data and methods that operate on the data into a single unit (class) and restricts access to some of the object's components."
      ],
      "metadata": {
        "id": "KHdk--KxdngU"
      }
    },
    {
      "cell_type": "markdown",
      "source": [
        "#5.What are dunder methods in Python?\n",
        "\n",
        ">Dunder methods (double underscore methods) are special methods with double underscores before and after their names, like __init__ and __str__. They allow customization of class behavior."
      ],
      "metadata": {
        "id": "rOjXgfRpd_iZ"
      }
    },
    {
      "cell_type": "markdown",
      "source": [
        "#6.Explain the concept of inheritance in OOP.\n",
        "\n",
        ">Inheritance allows a class (child class) to inherit attributes and methods from another class (parent class), promoting code reuse"
      ],
      "metadata": {
        "id": "ACmm20y5eNc7"
      }
    },
    {
      "cell_type": "markdown",
      "source": [
        "#7.What is polymorphism in OOP?\n",
        "\n",
        ">Polymorphism allows objects of different classes to be treated as objects of a common superclass. It enables a single interface to represent different underlying forms (data types)"
      ],
      "metadata": {
        "id": "sHRVL4CVebji"
      }
    },
    {
      "cell_type": "markdown",
      "source": [
        "#8.How is encapsulation achieved in Python.\n",
        "\n",
        ">Encapsulation is achieved using private and protected access modifiers. Private attributes are prefixed with double underscores (__), and protected attributes are prefixed with a single underscore (_)."
      ],
      "metadata": {
        "id": "AwlYPFFffVmZ"
      }
    },
    {
      "cell_type": "markdown",
      "source": [
        "#9.What is a constructor in Python?\n",
        "\n",
        ">A constructor is a special method (__init__) that is called when an object is instantiated. It initializes the object's attributes."
      ],
      "metadata": {
        "id": "OTzX6XgkgVM3"
      }
    },
    {
      "cell_type": "markdown",
      "source": [
        "#10.What are class and static methods in Python?\n",
        "\n",
        ">Class Methods: Defined using the @classmethod decorator and take cls as the first parameter. They can modify class state.\n",
        "\n",
        ">Static Methods: Defined using the @staticmethod decorator and do not take self or cls as parameters. They do not modify class or instance state."
      ],
      "metadata": {
        "id": "BWnguJgUgtzd"
      }
    },
    {
      "cell_type": "markdown",
      "source": [
        "#11.What is method overloading in Python?\n",
        "\n",
        ">Python does not support method overloading directly. However, you can achieve similar functionality using default arguments or variable-length arguments"
      ],
      "metadata": {
        "id": "8MM06lsug_lW"
      }
    },
    {
      "cell_type": "markdown",
      "source": [
        "#12.What is method overriding in OOP?\n",
        "\n",
        ">Method overriding allows a child class to provide a specific implementation of a method already defined in its parent class"
      ],
      "metadata": {
        "id": "0Itvd6ZZh-p7"
      }
    },
    {
      "cell_type": "markdown",
      "source": [
        "#13.What is a property decorator in Python?\n",
        "\n",
        ">The @property decorator allows you to define methods that can be accessed like attributes, providing a way to implement getters, setters, and deleters"
      ],
      "metadata": {
        "id": "Pfq6wBn1iLCm"
      }
    },
    {
      "cell_type": "markdown",
      "source": [
        "#14.Why is polymorphism important in OOP?\n",
        "\n",
        ">Polymorphism promotes flexibility and maintainability by allowing different classes to be treated through a common interface, enabling code reuse and dynamic method resolution"
      ],
      "metadata": {
        "id": "8Wa8YxnFiW8I"
      }
    },
    {
      "cell_type": "markdown",
      "source": [
        "#15.What is an abstract class in Python?\n",
        "\n",
        ">An abstract class is a class that cannot be instantiated and is meant to be subclassed. It can contain abstract methods that must be implemented by subclasses."
      ],
      "metadata": {
        "id": "3YatWA6bipnO"
      }
    },
    {
      "cell_type": "markdown",
      "source": [
        "#16.What are the advantages of OOP?\n",
        "\n",
        ">Code Reusability\n",
        "\n",
        ">Modularity\n",
        "\n",
        ">Scalability\n",
        "\n",
        ">Maintainability\n",
        "\n",
        ">Abstraction and Encapsulation"
      ],
      "metadata": {
        "id": "y0Hh5tG4jCmW"
      }
    },
    {
      "cell_type": "markdown",
      "source": [
        "#17.What is the difference between a class variable and an instance variable?\n",
        "\n",
        ">Class Variable: Shared among all instances of a class.\n",
        "\n",
        ">Instance Variable: Unique to each instance of a class."
      ],
      "metadata": {
        "id": "ObbJN1-hjUl9"
      }
    },
    {
      "cell_type": "markdown",
      "source": [
        "#18.What is multiple inheritance in Python?\n",
        "\n",
        ">Multiple inheritance allows a class to inherit from more than one parent class, combining their attributes and methods"
      ],
      "metadata": {
        "id": "k_Cq3854juxY"
      }
    },
    {
      "cell_type": "markdown",
      "source": [
        "#19.Explain the purpose of ‘’__str__’ and ‘__repr__’ ‘ methods in Python.\n",
        "\n",
        ">__str__: Provides a human-readable string representation of an object.\n",
        "\n",
        "__repr__: Provides an unambiguous string representation of an object, useful for debugging"
      ],
      "metadata": {
        "id": "iXnGDXFukMUe"
      }
    },
    {
      "cell_type": "markdown",
      "source": [
        "#20.What is the significance of the ‘super()’ function in Python?\n",
        "\n",
        ">The super() function allows you to call methods from a parent class, enabling method overriding and multiple inheritance."
      ],
      "metadata": {
        "id": "BeI6o-q4kilM"
      }
    },
    {
      "cell_type": "markdown",
      "source": [
        "#21.What is the significance of the _ _del__ method in Python?\n",
        "\n",
        ">The __del__ method is a destructor that is called when an object is about to be destroyed, allowing for cleanup action"
      ],
      "metadata": {
        "id": "YrORrkfFkyT8"
      }
    },
    {
      "cell_type": "markdown",
      "source": [
        "#22. What is the difference between @staticmethod and @classmethod in Python?\n",
        "\n",
        ">@staticmethod: Does not take self or cls as parameters and cannot modify class or instance state.\n",
        "\n",
        ">@classmethod: Takes cls as a parameter and can modify class state."
      ],
      "metadata": {
        "id": "xZ8YAPbvlMYG"
      }
    },
    {
      "cell_type": "markdown",
      "source": [
        "#23.How does polymorphism work in Python with inheritance.\n",
        "\n",
        ">Polymorphism allows methods to be used interchangeably, enabling objects of different classes to be treated as objects of a common superclass."
      ],
      "metadata": {
        "id": "lKpch-T-mDk3"
      }
    },
    {
      "cell_type": "markdown",
      "source": [
        "#24.What is method chaining in Python OOP?\n",
        "\n",
        ">Method chaining allows multiple methods to be called on the same object in a single statement, improving code readability."
      ],
      "metadata": {
        "id": "OwRMW8m8mPWV"
      }
    },
    {
      "cell_type": "markdown",
      "source": [
        "#25.What is the purpose of the __call__ method in Python?\n",
        "\n",
        ">The __call__ method allows an instance of a class to be called as a function, enabling objects to be used as callable entities."
      ],
      "metadata": {
        "id": "TkkfJ6-ymj_G"
      }
    },
    {
      "cell_type": "markdown",
      "source": [
        "#Practical Questions"
      ],
      "metadata": {
        "id": "5CMaFFL-3jXw"
      }
    },
    {
      "cell_type": "code",
      "source": [
        "#1.Create a parent class Animal with a method speak() that prints a generic message. Create a child class Dog that overrides the speak() method to print \"Bark!\".\n",
        "\n",
        "class Animal:\n",
        "    def speak(self):\n",
        "        print(\"Animal speaks\")\n",
        "\n",
        "class Dog(Animal):\n",
        "    def speak(self):\n",
        "        print(\"Bark!\")\n",
        "\n",
        "# Example usage\n",
        "dog = Dog()\n",
        "dog.speak()  # Output: Bark!"
      ],
      "metadata": {
        "id": "1ftkaW2B3rti"
      },
      "execution_count": null,
      "outputs": []
    },
    {
      "cell_type": "code",
      "source": [
        "#2.Write a program to create an abstract class Shape with a method area(). Derive classes Circle and Rectangle from it and implement the area() method in both.\n",
        "\n",
        "from abc import ABC, abstractmethod\n",
        "\n",
        "class Shape(ABC):\n",
        "    @abstractmethod\n",
        "    def area(self):\n",
        "        pass\n",
        "\n",
        "class Circle(Shape):\n",
        "    def __init__(self, radius):\n",
        "        self.radius = radius\n",
        "\n",
        "    def area(self):\n",
        "        return 3.14 * self.radius * self.radius\n",
        "\n",
        "class Rectangle(Shape):\n",
        "    def __init__(self, width, height):\n",
        "        self.width = width\n",
        "        self.height = height\n",
        "\n",
        "    def area(self):\n",
        "        return self.width * self.height\n",
        "\n",
        "# Example usage\n",
        "circle = Circle(5)\n",
        "rectangle = Rectangle(4, 6)\n",
        "print(circle.area())  # Output: 78.5\n",
        "print(rectangle.area())  # Output: 24"
      ],
      "metadata": {
        "id": "Qc2Od7-U59kz"
      },
      "execution_count": null,
      "outputs": []
    },
    {
      "cell_type": "code",
      "source": [
        "#3.Implement a multi-level inheritance scenario where a class Vehicle has an attribute type. Derive a class Car and further derive a class ElectricCar that adds a battery attribute.\n",
        "\n",
        "class Vehicle:\n",
        "    def __init__(self, type):\n",
        "        self.type = type\n",
        "\n",
        "class Car(Vehicle):\n",
        "    def __init__(self, type, model):\n",
        "        super().__init__(type)\n",
        "        self.model = model\n",
        "\n",
        "class ElectricCar(Car):\n",
        "    def __init__(self, type, model, battery):\n",
        "        super().__init__(type, model)\n",
        "        self.battery = battery\n",
        "\n",
        "# Example usage\n",
        "electric_car = ElectricCar(\"Electric\", \"Tesla Model S\", \"100 kWh\")\n",
        "print(electric_car.type)  # Output: Electric\n",
        "print(electric_car.model)  # Output: Tesla Model S\n",
        "print(electric_car.battery)  # Output: 100 kWh"
      ],
      "metadata": {
        "id": "sm9_FbJD6gvS"
      },
      "execution_count": null,
      "outputs": []
    },
    {
      "cell_type": "code",
      "source": [
        "#4.Implement a multi-level inheritance scenario where a class Vehicle has an attribute type. Derive a class Car and further derive a class ElectricCar that adds a battery attribute.\n",
        "\n",
        "class Vehicle:\n",
        "    def __init__(self, type):\n",
        "        self.type = type\n",
        "\n",
        "class Car(Vehicle):\n",
        "    def __init__(self, type, model):\n",
        "        super().__init__(type)\n",
        "        self.model = model\n",
        "\n",
        "class ElectricCar(Car):\n",
        "    def __init__(self, type, model, battery):\n",
        "        super().__init__(type, model)\n",
        "        self.battery = battery\n",
        "\n",
        "# Example usage\n",
        "electric_car = ElectricCar(\"Electric\", \"Tesla Model S\", \"100 kWh\")\n",
        "print(electric_car.type)  # Output: Electric\n",
        "print(electric_car.model)  # Output: Tesla Model S\n",
        "print(electric_car.battery)  # Output: 100 kWh"
      ],
      "metadata": {
        "id": "5IhsB20N8B2E"
      },
      "execution_count": null,
      "outputs": []
    },
    {
      "cell_type": "code",
      "source": [
        "#5.Write a program to demonstrate encapsulation by creating a class BankAccount with private attributes balance and methods to deposit, withdraw, and check balance.\n",
        "\n",
        "class BankAccount:\n",
        "    def __init__(self, balance):\n",
        "        self.__balance = balance\n",
        "\n",
        "    def deposit(self, amount):\n",
        "        self.__balance += amount\n",
        "\n",
        "    def withdraw(self, amount):\n",
        "        if amount <= self.__balance:\n",
        "            self.__balance -= amount\n",
        "        else:\n",
        "            print(\"Insufficient funds\")\n",
        "\n",
        "    def check_balance(self):\n",
        "        return self.__balance\n",
        "\n",
        "# Example usage\n",
        "account = BankAccount(1000)\n",
        "account.deposit(500)\n",
        "account.withdraw(200)\n",
        "print(account.check_balance())  # Output: 1300"
      ],
      "metadata": {
        "id": "8sSm2Q0d87bE"
      },
      "execution_count": null,
      "outputs": []
    },
    {
      "cell_type": "code",
      "source": [
        "#6.Demonstrate runtime polymorphism using a method play() in a base class Instrument. Derive classes Guitar and Piano that implement their own version of play().\n",
        "\n",
        "class Instrument:\n",
        "    def play(self):\n",
        "        pass\n",
        "\n",
        "class Guitar(Instrument):\n",
        "    def play(self):\n",
        "        print(\"Playing the guitar\")\n",
        "\n",
        "class Piano(Instrument):\n",
        "    def play(self):\n",
        "        print(\"Playing the piano\")\n",
        "\n",
        "# Example usage\n",
        "instruments = [Guitar(), Piano()]\n",
        "for instrument in instruments:\n",
        "    instrument.play()\n",
        "# Output:\n",
        "# Playing the guitar\n",
        "# Playing the piano"
      ],
      "metadata": {
        "id": "CisexIuc_Mlf"
      },
      "execution_count": null,
      "outputs": []
    },
    {
      "cell_type": "code",
      "source": [
        "#7.Create a class MathOperations with a class method add_numbers() to add two numbers and a static method subtract_numbers() to subtract two numbers.\n",
        "\n",
        "class MathOperations:\n",
        "    @classmethod\n",
        "    def add_numbers(cls, a, b):\n",
        "        return a + b\n",
        "\n",
        "    @staticmethod\n",
        "    def subtract_numbers(a, b):\n",
        "        return a - b\n",
        "\n",
        "# Example usage\n",
        "print(MathOperations.add_numbers(5, 3))  # Output: 8\n",
        "print(MathOperations.subtract_numbers(5, 3))  # Output: 2"
      ],
      "metadata": {
        "id": "q6Wnxg2R_1wH"
      },
      "execution_count": null,
      "outputs": []
    },
    {
      "cell_type": "code",
      "source": [
        "#8.Implement a class Person with a class method to count the total number of persons created.\n",
        "\n",
        "class Person:\n",
        "    count = 0\n",
        "\n",
        "    def __init__(self, name):\n",
        "        self.name = name\n",
        "        Person.count += 1\n",
        "\n",
        "    @classmethod\n",
        "    def get_count(cls):\n",
        "        return cls.count\n",
        "\n",
        "# Example usage\n",
        "p1 = Person(\"Alice\")\n",
        "p2 = Person(\"Bob\")\n",
        "print(Person.get_count())  # Output: 2"
      ],
      "metadata": {
        "id": "zY-ZwxWjAtvK"
      },
      "execution_count": null,
      "outputs": []
    },
    {
      "cell_type": "code",
      "source": [
        "#9.Write a class Fraction with attributes numerator and denominator. Override the str method to display the fraction as \"numerator/denominator\".\n",
        "\n",
        "class Fraction:\n",
        "    def __init__(self, numerator, denominator):\n",
        "        self.numerator = numerator\n",
        "        self.denominator = denominator\n",
        "\n",
        "    def __str__(self):\n",
        "        return f\"{self.numerator}/{self.denominator}\"\n",
        "\n",
        "# Example usage\n",
        "fraction = Fraction(3, 4)\n",
        "print(fraction)  # Output: 3/4"
      ],
      "metadata": {
        "id": "4wEVhe_rB_ju"
      },
      "execution_count": null,
      "outputs": []
    },
    {
      "cell_type": "code",
      "source": [
        "#10.Demonstrate operator overloading by creating a class Vector and overriding the add method to add two vectors.\n",
        "\n",
        "class Vector:\n",
        "    def __init__(self, x, y):\n",
        "        self.x = x\n",
        "        self.y = y\n",
        "\n",
        "    def __add__(self, other):\n",
        "        return Vector(self.x + other.x, self.y + other.y)\n",
        "\n",
        "    def __str__(self):\n",
        "        return f\"Vector({self.x}, {self.y})\"\n",
        "\n",
        "# Example usage\n",
        "v1 = Vector(2, 3)\n",
        "v2 = Vector(4, 5)\n",
        "v3 = v1 + v2\n",
        "print(v3)  # Output: Vector(6, 8)"
      ],
      "metadata": {
        "id": "P9Xpr2OgCzhQ"
      },
      "execution_count": null,
      "outputs": []
    },
    {
      "cell_type": "code",
      "source": [
        "#11. Create a class Person with attributes name and age. Add a method greet() that prints \"Hello, my name is {name} and I am {age} years old.\"\n",
        "\n",
        "class Person:\n",
        "    def __init__(self, name, age):\n",
        "        self.name = name\n",
        "        self.age = age\n",
        "\n",
        "    def greet(self):\n",
        "        print(f\"Hello, my name is {self.name} and I am {self.age} years old.\")\n",
        "\n",
        "# Example usage\n",
        "person = Person(\"shyam\", 30)\n",
        "person.greet()  # Output: Hello, my name is shyam and I am 30 years old."
      ],
      "metadata": {
        "id": "_IAzsLuSFSsN"
      },
      "execution_count": null,
      "outputs": []
    },
    {
      "cell_type": "code",
      "source": [
        "#12.Implement a class Student with attributes name and grades. Create a method average_grade() to compute the average of the grades.\n",
        "\n",
        "class Student:\n",
        "    def __init__(self, name, grades):\n",
        "        self.name = name\n",
        "        self.grades = grades\n",
        "\n",
        "    def average_grade(self):\n",
        "        return sum(self.grades) / len(self.grades)\n",
        "\n",
        "# Example usage\n",
        "student = Student(\"Bob\", [85, 90, 78, 92])\n",
        "print(student.average_grade())  # Output: 86.25"
      ],
      "metadata": {
        "id": "71lxL6j5RNq2"
      },
      "execution_count": null,
      "outputs": []
    },
    {
      "cell_type": "code",
      "source": [
        "#13.Create a class Rectangle with methods set_dimensions() to set the dimensions and area() to calculate the area.\n",
        "\n",
        "class Rectangle:\n",
        "    def __init__(self):\n",
        "        self.width = 0\n",
        "        self.height = 0\n",
        "\n",
        "    def set_dimensions(self, width, height):\n",
        "        self.width = width\n",
        "        self.height = height\n",
        "\n",
        "    def area(self):\n",
        "        return self.width * self.height\n",
        "\n",
        "# Example usage\n",
        "rectangle = Rectangle()\n",
        "rectangle.set_dimensions(4, 5)\n",
        "print(rectangle.area())  # Output: 20"
      ],
      "metadata": {
        "id": "UsJ7hVk2RmcN"
      },
      "execution_count": null,
      "outputs": []
    },
    {
      "cell_type": "code",
      "source": [
        "#14.Create a class Employee with a method calculate_salary() that computes the salary based on hours worked and hourly rate. Create a derived class Manager that adds a bonus to the salary.\n",
        "\n",
        "class Employee:\n",
        "    def __init__(self, hours_worked, hourly_rate):\n",
        "        self.hours_worked = hours_worked\n",
        "        self.hourly_rate = hourly_rate\n",
        "\n",
        "    def calculate_salary(self):\n",
        "        return self.hours_worked * self.hourly_rate\n",
        "\n",
        "class Manager(Employee):\n",
        "    def __init__(self, hours_worked, hourly_rate, bonus):\n",
        "        super().__init__(hours_worked, hourly_rate)\n",
        "        self.bonus = bonus\n",
        "\n",
        "    def calculate_salary(self):\n",
        "        base_salary = super().calculate_salary()\n",
        "        return base_salary + self.bonus\n",
        "\n",
        "# Example usage\n",
        "employee = Employee(40, 20)\n",
        "manager = Manager(40, 20, 500)\n",
        "print(employee.calculate_salary())  # Output: 800\n",
        "print(manager.calculate_salary())  # Output: 1300"
      ],
      "metadata": {
        "id": "Z37sJ7gqS8sJ"
      },
      "execution_count": null,
      "outputs": []
    },
    {
      "cell_type": "code",
      "source": [
        "#15. Create a class Product with attributes name, price, and quantity. Implement a method total_price() that calculates the total price of the product.\n",
        "\n",
        "class Product:\n",
        "    def __init__(self, name, price, quantity):\n",
        "        self.name = name\n",
        "        self.price = price\n",
        "        self.quantity = quantity\n",
        "\n",
        "    def total_price(self):\n",
        "        return self.price * self.quantity\n",
        "\n",
        "# Example usage\n",
        "product = Product(\"Laptop\", 1000, 3)\n",
        "print(product.total_price())  # Output: 3000"
      ],
      "metadata": {
        "id": "9IA8N_MgUQR4"
      },
      "execution_count": null,
      "outputs": []
    },
    {
      "cell_type": "code",
      "source": [
        "#16.Create a class Animal with an abstract method sound(). Create two derived classes Cow and Sheep that implement the sound() method.\n",
        "\n",
        "from abc import ABC, abstractmethod\n",
        "\n",
        "class Animal(ABC):\n",
        "    @abstractmethod\n",
        "    def sound(self):\n",
        "        pass\n",
        "\n",
        "class Cow(Animal):\n",
        "    def sound(self):\n",
        "        return \"Moo\"\n",
        "\n",
        "class Sheep(Animal):\n",
        "    def sound(self):\n",
        "        return \"Baa\"\n",
        "\n",
        "# Example usage\n",
        "cow = Cow()\n",
        "sheep = Sheep()\n",
        "print(cow.sound())  # Output: Moo\n",
        "print(sheep.sound())  # Output: Baa"
      ],
      "metadata": {
        "id": "M6y26_d8Uwzn"
      },
      "execution_count": null,
      "outputs": []
    },
    {
      "cell_type": "code",
      "source": [
        "#17. Create a class Book with attributes title, author, and year_published. Add a method get_book_info() that returns a formatted string with the book's details.\n",
        "\n",
        "class Book:\n",
        "    def __init__(self, title, author, year_published):\n",
        "        self.title = title\n",
        "        self.author = author\n",
        "        self.year_published = year_published\n",
        "\n",
        "    def get_book_info(self):\n",
        "        return f\"Title: {self.title}, Author: {self.author}, Year Published: {self.year_published}\"\n",
        "\n",
        "# Example usage\n",
        "book = Book(\"1984\", \"George Orwell\", 1949)\n",
        "print(book.get_book_info())  # Output: Title: 1984, Author: George Orwell, Year Published: 1949\n"
      ],
      "metadata": {
        "id": "BtBaNex9VFRv"
      },
      "execution_count": null,
      "outputs": []
    },
    {
      "cell_type": "code",
      "source": [
        "#18.Create a class House with attributes address and price. Create a derived class Mansion that adds an attribute number_of_rooms.\n",
        "\n",
        "class House:\n",
        "    def __init__(self, address, price):\n",
        "        self.address = address\n",
        "        self.price = price\n",
        "\n",
        "class Mansion(House):\n",
        "    def __init__(self, address, price, number_of_rooms):\n",
        "        super().__init__(address, price)\n",
        "        self.number_of_rooms = number_of_rooms\n",
        "\n",
        "# Example usage\n",
        "mansion = Mansion(\"123 Luxury St\", 5000000, 10)\n",
        "print(mansion.address)  # Output: 123 Luxury St\n",
        "print(mansion.price)  # Output: 5000000\n",
        "print(mansion.number_of_rooms)  # Output: 10"
      ],
      "metadata": {
        "id": "xFUPqK8dVvlh"
      },
      "execution_count": null,
      "outputs": []
    }
  ]
}