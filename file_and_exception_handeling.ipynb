{
  "nbformat": 4,
  "nbformat_minor": 0,
  "metadata": {
    "colab": {
      "provenance": []
    },
    "kernelspec": {
      "name": "python3",
      "display_name": "Python 3"
    },
    "language_info": {
      "name": "python"
    }
  },
  "cells": [
    {
      "cell_type": "markdown",
      "source": [
        "#1.What is the difference between interpreted and compiled languages?\n",
        "\n",
        ">Interpreted languages: Code is executed line by line by an interpreter. Examples include Python, JavaScript, and Ruby.\n",
        "\n",
        ">Compiled languages: Code is translated into machine code by a compiler before execution. Examples include C, C++, and Rust."
      ],
      "metadata": {
        "id": "MapfahB34q4t"
      }
    },
    {
      "cell_type": "markdown",
      "source": [
        "#2.What is exception handling in Python?\n",
        "\n",
        ">Exception handling allows you to manage errors gracefully using try, except, else, and finally blocks."
      ],
      "metadata": {
        "id": "qRL407p143rp"
      }
    },
    {
      "cell_type": "markdown",
      "source": [
        "#3.What is the purpose of the finally block in exception handling?\n",
        "\n",
        ">The finally block is executed no matter what, ensuring that cleanup code runs regardless of whether an exception occurred."
      ],
      "metadata": {
        "id": "1-KsOZAR5YlB"
      }
    },
    {
      "cell_type": "markdown",
      "source": [
        "#4.What is logging in Python?\n",
        "\n",
        ">Logging is used to track events that happen when some software runs. The logging module in Python provides a flexible framework for emitting log messages from Python programs."
      ],
      "metadata": {
        "id": "MZm--hQz5np-"
      }
    },
    {
      "cell_type": "markdown",
      "source": [
        "#5.What is the significance of the __del__ method in Python?\n",
        "\n",
        ">The __del__ method is a destructor method that is called when an object is about to be destroyed. It allows for cleanup actions."
      ],
      "metadata": {
        "id": "JPxcdbGK55fE"
      }
    },
    {
      "cell_type": "markdown",
      "source": [
        "#6.What is the difference between import and from ... import in Python?\n",
        "\n",
        ">import module: Imports the entire module.\n",
        "\n",
        ">from module import name: Imports a specific attribute or function from the module."
      ],
      "metadata": {
        "id": "zc2Js2lU6nIJ"
      }
    },
    {
      "cell_type": "markdown",
      "source": [
        "#7.How can you handle multiple exceptions in Python?\n",
        "\n",
        ">You can handle multiple exceptions using a tuple in the except clause, like this:\n",
        "\n",
        "    try:\n",
        "    # code that may raise an exception\n",
        "    except (ExceptionType1, ExceptionType2) as e:\n",
        "    # handle exceptions\n"
      ],
      "metadata": {
        "id": "o5zU-jIT7PMq"
      }
    },
    {
      "cell_type": "markdown",
      "source": [
        "#8.What is the purpose of the with statement when handling files in Python?\n",
        "\n",
        ">The with statement ensures that resources are properly managed. It automatically closes the file when the block of code is exited."
      ],
      "metadata": {
        "id": "aQXff9Lv72ji"
      }
    },
    {
      "cell_type": "markdown",
      "source": [
        "#9.What is the difference between multithreading and multiprocessing?\n",
        "\n",
        ">Multithreading: Multiple threads within the same process share the same memory space.\n",
        "\n",
        ">Multiprocessing: Multiple processes run in separate memory spaces, providing true parallelism."
      ],
      "metadata": {
        "id": "PdsCjUks8P48"
      }
    },
    {
      "cell_type": "markdown",
      "source": [
        "#10.What are the advantages of using logging in a program?\n",
        "\n",
        ">Helps in debugging and monitoring.\n",
        "\n",
        ">Provides a record of runtime events.\n",
        "\n",
        ">Can be configured to log at different levels (e.g., DEBUG, INFO, WARNING, ERROR, CRITICAL)"
      ],
      "metadata": {
        "id": "XIEHGpo48t-s"
      }
    },
    {
      "cell_type": "markdown",
      "source": [
        "#11.What is memory management in Python?\n",
        "\n",
        ">Python uses automatic memory management, including garbage collection, to manage memory allocation and deallocation."
      ],
      "metadata": {
        "id": "MDUlhmI388Kf"
      }
    },
    {
      "cell_type": "markdown",
      "source": [
        "#12.What are the basic steps involved in exception handling in Python?\n",
        "\n",
        ">Use try to wrap code that may raise an exception.\n",
        "\n",
        ">Use except to catch and handle exceptions.\n",
        "\n",
        ">Optionally use else to run code if no exceptions were raised.\n",
        "\n",
        ">Use finally to execute cleanup code regardless of whether an exception occurred"
      ],
      "metadata": {
        "id": "MxwBQCbS9RgZ"
      }
    },
    {
      "cell_type": "markdown",
      "source": [
        "#13.Why is memory management important in Python?\n",
        "\n",
        ">Efficient memory management ensures that programs run smoothly without consuming excessive resources, preventing memory leaks and crashes.\n",
        "\n",
        "\n"
      ],
      "metadata": {
        "id": "FM-pLj_39pft"
      }
    },
    {
      "cell_type": "markdown",
      "source": [
        "#14.What is the role of try and except in exception handling?\n",
        "\n",
        ">try block contains code that might raise an exception.\n",
        "\n",
        ">except block contains code to handle the exception if it occurs"
      ],
      "metadata": {
        "id": "i8n-Uz7K-Ka8"
      }
    },
    {
      "cell_type": "markdown",
      "source": [
        "#15.How does Python's garbage collection system work?\n",
        "\n",
        ">Python uses reference counting and a cyclic garbage collector to manage memory. When an object's reference count drops to zero, it is deallocated."
      ],
      "metadata": {
        "id": "JVQEszpb-kNS"
      }
    },
    {
      "cell_type": "markdown",
      "source": [
        "#16.What is the purpose of the else block in exception handling?\n",
        "\n",
        ">The else block runs if no exceptions were raised in the try block."
      ],
      "metadata": {
        "id": "uTYOX-lI-8yG"
      }
    },
    {
      "cell_type": "markdown",
      "source": [
        "#17.What are the common logging levels in Python?\n",
        "\n",
        ">DEBUG, INFO, WARNING, ERROR, CRITICAL."
      ],
      "metadata": {
        "id": "Ge20JYZn_FN4"
      }
    },
    {
      "cell_type": "markdown",
      "source": [
        "#18.What is the difference between os.fork() and multiprocessing in Python?\n",
        "\n",
        ">os.fork(): Creates a new process by duplicating the current process.\n",
        "\n",
        ">multiprocessing: Provides a higher-level interface for creating and managing processes"
      ],
      "metadata": {
        "id": "qzA2Wqe9_O5p"
      }
    },
    {
      "cell_type": "markdown",
      "source": [
        "#19.What is the importance of closing a file in Python?\n",
        "\n",
        ">Closing a file ensures that resources are released and data is properly written to disk."
      ],
      "metadata": {
        "id": "z7955MSA_eZb"
      }
    },
    {
      "cell_type": "markdown",
      "source": [
        "#20.What is the difference between file.read() and file.readline() in Python>\n",
        "\n",
        ">file.read(): Reads the entire file or a specified number of bytes.\n",
        "\n",
        ">file.readline(): Reads a single line from the file."
      ],
      "metadata": {
        "id": "xal7BzIcAD0-"
      }
    },
    {
      "cell_type": "markdown",
      "source": [
        "#21.What is the logging module in Python used for?\n",
        "\n",
        ">The logging module is used to track events that happen when some software runs. It provides a way to configure different log handlers and log messages at different severity levels (DEBUG, INFO, WARNING, ERROR, CRITICAL\n",
        "\n"
      ],
      "metadata": {
        "id": "lp5GKKsaARl3"
      }
    },
    {
      "cell_type": "markdown",
      "source": [
        "#22.What is the os module in Python used for in file handling?\n",
        "\n",
        ">The os module provides a way of using operating system-dependent functionality like reading or writing to the file system. It includes functions to create, remove, and change directories, fetch their contents, and more"
      ],
      "metadata": {
        "id": "Lmr5c1blAS3q"
      }
    },
    {
      "cell_type": "markdown",
      "source": [
        "#23.What are the challenges associated with memory management in Python?\n",
        "\n",
        ">Garbage Collection: Python's garbage collector can sometimes be unpredictable, leading to memory leaks.\n",
        "\n",
        ">Reference Counting: Circular references can cause issues since reference counting alone can't handle them.\n",
        "\n",
        ">Memory Fragmentation: Long-running programs may suffer from memory fragmentation, leading to inefficient memory use"
      ],
      "metadata": {
        "id": "eEx8Gh7rAULi"
      }
    },
    {
      "cell_type": "markdown",
      "source": [
        "#24. How do you raise an exception manually in Python?\n",
        "\n",
        ">ou can raise an exception manually using the raise keyword.\n",
        "\n",
        " For example\n",
        "    \n",
        "    raise ValueError(\"An error occurred\")\n"
      ],
      "metadata": {
        "id": "rNm2Y8wTAWgA"
      }
    },
    {
      "cell_type": "markdown",
      "source": [
        "#25.Why is it important to use multithreading in certain applications?\n",
        "\n",
        ">Multithreading is important for applications that require concurrent execution of tasks, such as web servers, real-time data processing, and GUI applications. It helps in improving the performance and responsiveness of these applications"
      ],
      "metadata": {
        "id": "7RZ4Ebk5AZW8"
      }
    },
    {
      "cell_type": "code",
      "source": [
        "#1.How can you open a file for writing in Python and write a string to it.\n",
        "\n",
        "with open('example.txt', 'w') as file:\n",
        "    file.write('Hello, World!')\n"
      ],
      "metadata": {
        "id": "hfR9IDWcD-y8"
      },
      "execution_count": null,
      "outputs": []
    },
    {
      "cell_type": "code",
      "source": [
        "#2.Write a Python program to read the contents of a file and print each line.\n",
        "\n",
        "with open('example.txt', 'r') as file:\n",
        "    for line in file:\n",
        "        print(line, end='')\n"
      ],
      "metadata": {
        "id": "b4K4XCG8EG-p"
      },
      "execution_count": null,
      "outputs": []
    },
    {
      "cell_type": "code",
      "source": [
        "#3.How would you handle a case where the file doesn't exist while trying to open it for reading.\n",
        "\n",
        "try: with open('nonexistent_file.txt', 'r') as file:\n",
        "  content = file.read()\n",
        "  except FileNotFoundError:\n",
        "    print(\"The file does not exist.\")"
      ],
      "metadata": {
        "id": "5wxGJx_yEZO4"
      },
      "execution_count": null,
      "outputs": []
    },
    {
      "cell_type": "code",
      "source": [
        "#4.Write a Python script that reads from one file and writes its content to another file.\n",
        "\n",
        "with open('source.txt', 'r') as source_file:\n",
        "    content = source_file.read()\n",
        "\n",
        "with open('destination.txt', 'w') as destination_file:\n",
        "    destination_file.write(content)\n"
      ],
      "metadata": {
        "id": "JbyJEaZoFZ7d"
      },
      "execution_count": null,
      "outputs": []
    },
    {
      "cell_type": "code",
      "source": [
        "#5.How would you catch and handle division by zero error in Python.\n",
        "\n",
        "try:\n",
        "    result = 10 / 0\n",
        "except ZeroDivisionError:\n",
        "    print(\"Cannot divide by zero.\")\n"
      ],
      "metadata": {
        "id": "zkv9PEjmFh1n"
      },
      "execution_count": null,
      "outputs": []
    },
    {
      "cell_type": "code",
      "source": [
        "#6.Write a Python program that logs an error message to a log file when a division by zero exception occurs.\n",
        "\n",
        "import logging\n",
        "\n",
        "logging.basicConfig(filename='error.log', level=logging.ERROR)\n",
        "\n",
        "try:\n",
        "    result = 10 / 0\n",
        "except ZeroDivisionError:\n",
        "    logging.error(\"Division by zero error occurred.\")\n"
      ],
      "metadata": {
        "id": "FgRTc3wEFqQ9"
      },
      "execution_count": null,
      "outputs": []
    },
    {
      "cell_type": "code",
      "source": [
        "#7.How do you log information at different levels (INFO, ERROR, WARNING) in Python using the logging modu.\n",
        "\n",
        "import logging\n",
        "\n",
        "logging.basicConfig(level=logging.DEBUG)\n",
        "\n",
        "logging.debug(\"This is a debug message\")\n",
        "logging.info(\"This is an info message\")\n",
        "logging.warning(\"This is a warning message\")\n",
        "logging.error(\"This is an error message\")\n",
        "logging.critical(\"This is a critical message\")\n"
      ],
      "metadata": {
        "id": "nMXdyLoyF3Sy"
      },
      "execution_count": null,
      "outputs": []
    },
    {
      "cell_type": "code",
      "source": [
        "#8.Write a program to handle a file opening error using exception handling.\n",
        "\n",
        "try:\n",
        "    with open('example.txt', 'r') as file:\n",
        "        content = file.read()\n",
        "except FileNotFoundError:\n",
        "    print(\"The file does not exist.\")\n"
      ],
      "metadata": {
        "id": "oU2WYOBLGBNe"
      },
      "execution_count": null,
      "outputs": []
    },
    {
      "cell_type": "code",
      "source": [
        "#9.How can you read a file line by line and store its content in a list in Python.\n",
        "\n",
        "lines = []\n",
        "with open('example.txt', 'r') as file:\n",
        "    for line in file:\n",
        "        lines.append(line.strip())\n"
      ],
      "metadata": {
        "id": "qg7Cqo3AGMtK"
      },
      "execution_count": null,
      "outputs": []
    },
    {
      "cell_type": "code",
      "source": [
        "#10.How can you append data to an existing file in Python.\n",
        "\n",
        "with open('example.txt', 'a') as file:\n",
        "    file.write('\\nAppended text.')\n"
      ],
      "metadata": {
        "id": "iY13WIRhGe_5"
      },
      "execution_count": null,
      "outputs": []
    },
    {
      "cell_type": "code",
      "source": [
        "#11.Write a Python program that uses a try-except block to handle an error when attempting to access adictionary key that doesn't existF.\n",
        "\n",
        "my_dict = {'a': 1, 'b': 2, 'c': 3}\n",
        "\n",
        "try:\n",
        "    value = my_dict['d']\n",
        "except KeyError:\n",
        "    print(\"Key 'd' does not exist in the dictionary.\")\n"
      ],
      "metadata": {
        "id": "Aj4eEfLVGpyh"
      },
      "execution_count": null,
      "outputs": []
    },
    {
      "cell_type": "code",
      "source": [
        "#12.Write a program that demonstrates using multiple except blocks to handle different types of exceptions.\n",
        "\n",
        "try:\n",
        "    result = 10 / 0\n",
        "except ZeroDivisionError:\n",
        "    print(\"Cannot divide by zero.\")\n",
        "except TypeError:\n",
        "    print(\"Invalid type for division.\")\n"
      ],
      "metadata": {
        "id": "DYRycYKsG-J2"
      },
      "execution_count": null,
      "outputs": []
    },
    {
      "cell_type": "code",
      "source": [
        "#13.How would you check if a file exists before attempting to read it in Python.\n",
        "\n",
        "import os\n",
        "\n",
        "if os.path.exists('example.txt'):\n",
        "    with open('example.txt', 'r') as file:\n",
        "        content = file.read()\n",
        "else:\n",
        "    print(\"The file does not exist.\")\n"
      ],
      "metadata": {
        "id": "8RV88MjPHPH0"
      },
      "execution_count": null,
      "outputs": []
    },
    {
      "cell_type": "code",
      "source": [
        "#14.Write a program that uses the logging module to log both informational and error messages.\n",
        "import logging\n",
        "\n",
        "logging.basicConfig(level=logging.DEBUG, filename='app.log', filemode='w')\n",
        "\n",
        "logging.info(\"This is an informational message.\")\n",
        "try:\n",
        "    result = 10 / 0\n",
        "except ZeroDivisionError:\n",
        "    logging.error(\"Division by zero error occurred.\")\n"
      ],
      "metadata": {
        "id": "ka9nXyWiH4nQ"
      },
      "execution_count": null,
      "outputs": []
    },
    {
      "cell_type": "code",
      "source": [
        "#15.Write a Python program that prints the content of a file and handles the case when the file is empty.\n",
        "\n",
        "try:\n",
        "    with open('example.txt', 'r') as file:\n",
        "        content = file.read()\n",
        "        if not content:\n",
        "            print(\"The file is empty.\")\n",
        "        else:\n",
        "            print(content)\n",
        "except FileNotFoundError:\n",
        "    print(\"The file does not exist.\")"
      ],
      "metadata": {
        "id": "2pV6uyMoNHOV"
      },
      "execution_count": null,
      "outputs": []
    },
    {
      "cell_type": "code",
      "source": [
        "#16.Demonstrate how to use memory profiling to check the memory usage of a small program.\n",
        "\n",
        "from memory_profiler import profile\n",
        "\n",
        "@profile\n",
        "def my_function():\n",
        "    a = [1] * (10 ** 6)\n",
        "    b = [2] * (2 * 10 ** 7)\n",
        "    del b\n",
        "    return a\n",
        "\n",
        "if __name__ == '__main__':\n",
        "    my_function()\n"
      ],
      "metadata": {
        "id": "gOC_UqITNXjX"
      },
      "execution_count": null,
      "outputs": []
    },
    {
      "cell_type": "code",
      "source": [
        "#17.Write a Python program to create and write a list of numbers to a file, one number per line.\n",
        "\n",
        "numbers = [1, 2, 3, 4, 5]\n",
        "\n",
        "with open('numbers.txt', 'w') as file:\n",
        "    for number in numbers:\n",
        "        file.write(f\"{number}\\n\")\n"
      ],
      "metadata": {
        "id": "Sp5VHDxkNmIo"
      },
      "execution_count": null,
      "outputs": []
    },
    {
      "cell_type": "code",
      "source": [
        "#18.How would you implement a basic logging setup that logs to a file with rotation after 1MB.\n",
        "\n",
        "import logging\n",
        "from logging.handlers import RotatingFileHandler\n",
        "\n",
        "handler = RotatingFileHandler('app.log', maxBytes=1 * 1024 * 1024, backupCount=5)\n",
        "logging.basicConfig(level=logging.DEBUG, handlers=[handler])\n",
        "\n",
        "logging.info(\"This is an informational message.\")\n",
        "logging.error(\"This is an error message.\")\n"
      ],
      "metadata": {
        "id": "mJVTLe3jN95i"
      },
      "execution_count": null,
      "outputs": []
    },
    {
      "cell_type": "code",
      "source": [
        "#19.Write a program that handles both IndexError and KeyError using a try-except block.\n",
        "\n",
        "my_list = [1, 2, 3]\n",
        "my_dict = {'a': 1, 'b': 2}\n",
        "\n",
        "try:\n",
        "    value = my_list[5]\n",
        "except IndexError:\n",
        "    print(\"Index out of range.\")\n",
        "\n",
        "try:\n",
        "    value = my_dict['c']\n",
        "except KeyError:\n",
        "    print(\"Key 'c' does not exist in the dictionary.\")\n"
      ],
      "metadata": {
        "id": "4J0gahlOOF5o"
      },
      "execution_count": null,
      "outputs": []
    },
    {
      "cell_type": "code",
      "source": [
        "#20.How would you open a file and read its contents using a context manager in Python?\n",
        "\n",
        "with open('example.txt', 'r') as file:\n",
        "    content = file.read()\n",
        "    print(content)\n"
      ],
      "metadata": {
        "id": "GvXtDlFEOTmB"
      },
      "execution_count": null,
      "outputs": []
    },
    {
      "cell_type": "code",
      "source": [
        "#21.Write a Python program that reads a file and prints the number of occurrences of a specific word.\n",
        "\n",
        "def count_word_occurrences(file_path, word):\n",
        "    with open(file_path, 'r') as file:\n",
        "        content = file.read()\n",
        "        word_count = content.lower().split().count(word.lower())\n",
        "        print(f\"The word '{word}' occurs {word_count} times in the file.\")\n",
        "\n",
        "count_word_occurrences('example.txt', 'word')\n"
      ],
      "metadata": {
        "id": "HsoLpODrOj5A"
      },
      "execution_count": null,
      "outputs": []
    },
    {
      "cell_type": "code",
      "source": [
        "#22.How can you check if a file is empty before attempting to read its contents.\n",
        "\n",
        "import os\n",
        "\n",
        "file_path = 'example.txt'\n",
        "\n",
        "if os.path.getsize(file_path) == 0:\n",
        "    print(\"The file is empty.\")\n",
        "else:\n",
        "    with open(file_path, 'r') as file:\n",
        "        content = file.read()\n",
        "        print(content)\n"
      ],
      "metadata": {
        "id": "qz9MgUlrO-P6"
      },
      "execution_count": null,
      "outputs": []
    },
    {
      "cell_type": "code",
      "source": [
        "#23.Write a Python program that writes to a log file when an error occurs during file handling.\n",
        "\n",
        "import logging\n",
        "\n",
        "logging.basicConfig(filename='file_handling.log', level=logging.ERROR)\n",
        "\n",
        "try:\n",
        "    with open('nonexistent_file.txt', 'r') as file:\n",
        "        content = file.read()\n",
        "except FileNotFoundError as e:\n",
        "    logging.error(f\"File not found: {e}\")\n"
      ],
      "metadata": {
        "id": "yed7NijFPScI"
      },
      "execution_count": null,
      "outputs": []
    }
  ]
}